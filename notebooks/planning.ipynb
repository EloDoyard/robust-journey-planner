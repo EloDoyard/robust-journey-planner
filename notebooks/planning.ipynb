{
 "cells": [
  {
   "cell_type": "markdown",
   "metadata": {},
   "source": [
    "# Finden Sie Ihren Reiseplan | Programme ton itinéraire | Programma un itinerario "
   ]
  },
  {
   "cell_type": "code",
   "execution_count": null,
   "metadata": {},
   "outputs": [],
   "source": [
    "%%capture\n",
    "! git lfs pull"
   ]
  },
  {
   "cell_type": "code",
   "execution_count": null,
   "metadata": {},
   "outputs": [],
   "source": [
    "import datetime\n",
    "import ipydatetime\n",
    "import networkx as nx\n",
    "from math import radians, cos, sin, asin, sqrt\n",
    "\n",
    "import ipywidgets as widgets\n",
    "from IPython.display import display, clear_output\n",
    "\n",
    "from planning import *\n",
    "from planning_helpers import *\n",
    "from interface_helpers import *"
   ]
  },
  {
   "cell_type": "code",
   "execution_count": null,
   "metadata": {},
   "outputs": [],
   "source": [
    "file = open(\"../figs/train.jpg\", \"rb\")\n",
    "image = file.read()\n",
    "widgets.Image(value=image, format='png', width=1200, height=400)"
   ]
  },
  {
   "cell_type": "markdown",
   "metadata": {},
   "source": [
    "To use this robust route planner, enter your departure and arrival points as well as the desired time of arrival.\n",
    "Don't forget to specify the number of trips you want to see, and the certainty of the provided trips. Once you're ready to go, hit `Start!`.\n",
    "\n",
    "*Note: do not hesitate to press the reset button on the map, as it sometimes loads in a smaller size.*"
   ]
  },
  {
   "cell_type": "code",
   "execution_count": null,
   "metadata": {},
   "outputs": [],
   "source": [
    "# In this notebook, we create the infrastrucure needed for the plannification, and then present the planning algorithm itself. \n",
    "# To use this notebook, you just need to run this notebook.\n",
    "# All the data needed is already stored in git LFS."
   ]
  },
  {
   "cell_type": "code",
   "execution_count": null,
   "metadata": {},
   "outputs": [],
   "source": [
    "# Read the network stored in lfs\n",
    "G = nx.read_gpickle(\"../data/graph.pickle\")"
   ]
  },
  {
   "cell_type": "code",
   "execution_count": null,
   "metadata": {},
   "outputs": [],
   "source": [
    "def haversine(lat1, lon1, lat2, lon2):\n",
    "    '''\n",
    "        Returns the distance between two points in Km\n",
    "    '''\n",
    "    R = 6372.8\n",
    "    dLat = radians(lat2 - lat1)\n",
    "    dLon = radians(lon2 - lon1)\n",
    "    lat1 = radians(lat1)\n",
    "    lat2 = radians(lat2)\n",
    "\n",
    "    a = sin(dLat/2)**2 + cos(lat1)*cos(lat2)*sin(dLon/2)**2\n",
    "    c = 2*asin(sqrt(a))\n",
    "\n",
    "    return R * c"
   ]
  },
  {
   "cell_type": "code",
   "execution_count": null,
   "metadata": {},
   "outputs": [],
   "source": [
    "def distance_to_zurich_hb(lat, lon):\n",
    "    ''' \n",
    "        Compute the distance from Zürich HB to location passed as parameter\n",
    "    '''\n",
    "    return haversine(lat, lon, 47.378177, 8.540192)"
   ]
  },
  {
   "cell_type": "code",
   "execution_count": null,
   "metadata": {},
   "outputs": [],
   "source": [
    "# We create several collections to help the access of stops according to their id or to their name. \n",
    "# We also construct a collection containing all the valid stops at less than 15 km from Zürich Main Station."
   ]
  },
  {
   "cell_type": "code",
   "execution_count": null,
   "metadata": {},
   "outputs": [],
   "source": [
    "valid_stops = set()\n",
    "stops_by_id = {}\n",
    "stops_by_name = {}\n",
    "\n",
    "for stop, data in G.nodes(data = True):\n",
    "    stops_by_id[stop] = data\n",
    "    stops_by_name[data['name']] = stop\n",
    "    if distance_to_zurich_hb(data['lat'], data['lon']) <= 15:\n",
    "        valid_stops.add(data['name']) \n",
    "valid_stops = sorted(list(valid_stops))"
   ]
  },
  {
   "cell_type": "code",
   "execution_count": null,
   "metadata": {},
   "outputs": [],
   "source": [
    "def submit_query(G, src_str, dst_str, arrival_time, n_trips, probability, stops_by_name, stops_by_id):\n",
    "    '''\n",
    "        Given the input values and the graph corresponding to the infrastructure, finds the trips, \n",
    "        computes their summaries, and displays them in a collapsable accordion view (one item \n",
    "        per trip)\n",
    "    '''\n",
    "    out.clear_output()\n",
    "    with out:\n",
    "        src, dst = stops_by_name[src_str], stops_by_name[dst_str]\n",
    "        trips = compute_n_trips(n_trips, G, src, dst, arrival_time, probability)\n",
    "\n",
    "        # Returns tuples like (short summary, long summary, n_transfers, walked distance)\n",
    "        summaries = [trip_summary(G, list(trip.items()), proba, stops_by_id) for trip, proba in trips]\n",
    "\n",
    "        # Sort by shortest walked distance then by least number of transfers \n",
    "        sorted(summaries, key = lambda s: (s[-2], s[-1]))\n",
    "\n",
    "        children = [create_trip_view(G, long_summary, nodes) for _, long_summary, nodes, _, _ in summaries]\n",
    "        accordion = widgets.Accordion(children = children, selected_index = None)\n",
    "        [accordion.set_title(i, summary[0]) for i, summary in enumerate(summaries)]\n",
    "        display(accordion)"
   ]
  },
  {
   "cell_type": "code",
   "execution_count": null,
   "metadata": {},
   "outputs": [],
   "source": [
    "n_trip_values = [i for i in range(1, 11)]\n",
    "\n",
    "layout = widgets.Layout(width='auto', height='30px', padding='0px 20px 40px 0', justify_content = 'space-between') #set width and height\n",
    "\n",
    "# Setup the widgets required for the interface\n",
    "src_choices = widgets.Combobox(options= valid_stops, placeholder = 'Choose a stop', ensure_option = True, layout=layout)\n",
    "dst_choices = widgets.Combobox(options= valid_stops, placeholder = 'Choose a stop', ensure_option = True, layout=layout)\n",
    "time_picker = ipydatetime.TimePicker(min = datetime.time(6, 0, 0), max = datetime.time(21, 0, 0), layout=layout)\n",
    "n_trip_choices = widgets.Dropdown(options= n_trip_values, value= n_trip_values[0], layout=layout)\n",
    "p_choice = widgets.BoundedFloatText(value=50, min=0, max=100, step=1, layout=layout)\n",
    "button = widgets.Button(description=\"Start !\")\n",
    "\n",
    "items = [\n",
    "    widgets.Label('From'), src_choices, \n",
    "    widgets.Label('To'), dst_choices, \n",
    "    widgets.Label('Before'), time_picker,\n",
    "    widgets.Label('Number of trips'), n_trip_choices, \n",
    "    widgets.Label('With certainty (%)'), p_choice, \n",
    "    button\n",
    "]\n",
    "\n",
    "grid_box = widgets.GridBox(items, layout=widgets.Layout(grid_template_columns=\"repeat(6, 250px)\"))\n",
    "\n",
    "# Display everything\n",
    "out = widgets.Output()\n",
    "display(grid_box)\n",
    "\n",
    "# Bind the button to the function that will launch the search \n",
    "button.on_click(lambda x : submit_query(G, src_choices.value, dst_choices.value, \n",
    "                                        str(time_picker.value), n_trip_choices.value, \n",
    "                                        p_choice.value/100, stops_by_name, stops_by_id))\n",
    "display(out)"
   ]
  }
 ],
 "metadata": {
  "kernelspec": {
   "display_name": "Python 3",
   "language": "python",
   "name": "python3"
  },
  "language_info": {
   "codemirror_mode": {
    "name": "ipython",
    "version": 3
   },
   "file_extension": ".py",
   "mimetype": "text/x-python",
   "name": "python",
   "nbconvert_exporter": "python",
   "pygments_lexer": "ipython3",
   "version": "3.7.6"
  }
 },
 "nbformat": 4,
 "nbformat_minor": 4
}
